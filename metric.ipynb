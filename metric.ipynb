{
 "cells": [
  {
   "cell_type": "code",
   "execution_count": 1,
   "id": "161febb0",
   "metadata": {},
   "outputs": [],
   "source": [
    "import numpy as np\n",
    "import torch\n",
    "import os\n",
    "import imageio\n",
    "from skimage.metrics import structural_similarity as SSIM\n",
    "import lpips\n",
    "import cv2\n",
    "img2mse = lambda x, y : torch.mean((x - y) ** 2)\n",
    "mse2psnr = lambda x : -10. * torch.log(x) / torch.log(torch.Tensor([10.]))\n",
    "from PIL import Image\n",
    "import matplotlib.pyplot as plt"
   ]
  },
  {
   "cell_type": "code",
   "execution_count": 2,
   "id": "5dfb8552",
   "metadata": {},
   "outputs": [
    {
     "name": "stdout",
     "output_type": "stream",
     "text": [
      "Setting up [LPIPS] perceptual loss: trunk [vgg], v[0.1], spatial [off]\n"
     ]
    },
    {
     "name": "stderr",
     "output_type": "stream",
     "text": [
      "C:\\Users\\18194\\AppData\\Local\\Programs\\Python\\Python310\\lib\\site-packages\\torchvision\\models\\_utils.py:208: UserWarning: The parameter 'pretrained' is deprecated since 0.13 and will be removed in 0.15, please use 'weights' instead.\n",
      "  warnings.warn(\n",
      "C:\\Users\\18194\\AppData\\Local\\Programs\\Python\\Python310\\lib\\site-packages\\torchvision\\models\\_utils.py:223: UserWarning: Arguments other than a weight enum or `None` for 'weights' are deprecated since 0.13 and will be removed in 0.15. The current behavior is equivalent to passing `weights=VGG16_Weights.IMAGENET1K_V1`. You can also use `weights=VGG16_Weights.DEFAULT` to get the most up-to-date weights.\n",
      "  warnings.warn(msg)\n"
     ]
    },
    {
     "name": "stdout",
     "output_type": "stream",
     "text": [
      "Loading model from: C:\\Users\\18194\\AppData\\Local\\Programs\\Python\\Python310\\lib\\site-packages\\lpips\\weights\\v0.1\\vgg.pth\n",
      "['D:\\\\三维重建\\\\nerf-pytorch\\\\nerf_llff_data\\\\horns\\\\images_8_origin\\\\DJI_20200223_163016_842.png', 'D:\\\\三维重建\\\\nerf-pytorch\\\\nerf_llff_data\\\\horns\\\\images_8_origin\\\\DJI_20200223_163017_967.png', 'D:\\\\三维重建\\\\nerf-pytorch\\\\nerf_llff_data\\\\horns\\\\images_8_origin\\\\DJI_20200223_163018_942.png', 'D:\\\\三维重建\\\\nerf-pytorch\\\\nerf_llff_data\\\\horns\\\\images_8_origin\\\\DJI_20200223_163019_752.png', 'D:\\\\三维重建\\\\nerf-pytorch\\\\nerf_llff_data\\\\horns\\\\images_8_origin\\\\DJI_20200223_163020_712.png', 'D:\\\\三维重建\\\\nerf-pytorch\\\\nerf_llff_data\\\\horns\\\\images_8_origin\\\\DJI_20200223_163021_627.png', 'D:\\\\三维重建\\\\nerf-pytorch\\\\nerf_llff_data\\\\horns\\\\images_8_origin\\\\DJI_20200223_163022_557.png', 'D:\\\\三维重建\\\\nerf-pytorch\\\\nerf_llff_data\\\\horns\\\\images_8_origin\\\\DJI_20200223_163023_427.png', 'D:\\\\三维重建\\\\nerf-pytorch\\\\nerf_llff_data\\\\horns\\\\images_8_origin\\\\DJI_20200223_163024_597.png', 'D:\\\\三维重建\\\\nerf-pytorch\\\\nerf_llff_data\\\\horns\\\\images_8_origin\\\\DJI_20200223_163025_977.png', 'D:\\\\三维重建\\\\nerf-pytorch\\\\nerf_llff_data\\\\horns\\\\images_8_origin\\\\DJI_20200223_163028_017.png', 'D:\\\\三维重建\\\\nerf-pytorch\\\\nerf_llff_data\\\\horns\\\\images_8_origin\\\\DJI_20200223_163029_038.png', 'D:\\\\三维重建\\\\nerf-pytorch\\\\nerf_llff_data\\\\horns\\\\images_8_origin\\\\DJI_20200223_163029_877.png', 'D:\\\\三维重建\\\\nerf-pytorch\\\\nerf_llff_data\\\\horns\\\\images_8_origin\\\\DJI_20200223_163030_687.png', 'D:\\\\三维重建\\\\nerf-pytorch\\\\nerf_llff_data\\\\horns\\\\images_8_origin\\\\DJI_20200223_163031_602.png', 'D:\\\\三维重建\\\\nerf-pytorch\\\\nerf_llff_data\\\\horns\\\\images_8_origin\\\\DJI_20200223_163032_532.png', 'D:\\\\三维重建\\\\nerf-pytorch\\\\nerf_llff_data\\\\horns\\\\images_8_origin\\\\DJI_20200223_163033_432.png', 'D:\\\\三维重建\\\\nerf-pytorch\\\\nerf_llff_data\\\\horns\\\\images_8_origin\\\\DJI_20200223_163034_287.png', 'D:\\\\三维重建\\\\nerf-pytorch\\\\nerf_llff_data\\\\horns\\\\images_8_origin\\\\DJI_20200223_163035_787.png', 'D:\\\\三维重建\\\\nerf-pytorch\\\\nerf_llff_data\\\\horns\\\\images_8_origin\\\\DJI_20200223_163036_792.png', 'D:\\\\三维重建\\\\nerf-pytorch\\\\nerf_llff_data\\\\horns\\\\images_8_origin\\\\DJI_20200223_163042_402.png', 'D:\\\\三维重建\\\\nerf-pytorch\\\\nerf_llff_data\\\\horns\\\\images_8_origin\\\\DJI_20200223_163043_257.png', 'D:\\\\三维重建\\\\nerf-pytorch\\\\nerf_llff_data\\\\horns\\\\images_8_origin\\\\DJI_20200223_163045_537.png', 'D:\\\\三维重建\\\\nerf-pytorch\\\\nerf_llff_data\\\\horns\\\\images_8_origin\\\\DJI_20200223_163046_438.png', 'D:\\\\三维重建\\\\nerf-pytorch\\\\nerf_llff_data\\\\horns\\\\images_8_origin\\\\DJI_20200223_163047_307.png', 'D:\\\\三维重建\\\\nerf-pytorch\\\\nerf_llff_data\\\\horns\\\\images_8_origin\\\\DJI_20200223_163048_057.png', 'D:\\\\三维重建\\\\nerf-pytorch\\\\nerf_llff_data\\\\horns\\\\images_8_origin\\\\DJI_20200223_163049_048.png', 'D:\\\\三维重建\\\\nerf-pytorch\\\\nerf_llff_data\\\\horns\\\\images_8_origin\\\\DJI_20200223_163050_292.png', 'D:\\\\三维重建\\\\nerf-pytorch\\\\nerf_llff_data\\\\horns\\\\images_8_origin\\\\DJI_20200223_163052_122.png', 'D:\\\\三维重建\\\\nerf-pytorch\\\\nerf_llff_data\\\\horns\\\\images_8_origin\\\\DJI_20200223_163053_007.png', 'D:\\\\三维重建\\\\nerf-pytorch\\\\nerf_llff_data\\\\horns\\\\images_8_origin\\\\DJI_20200223_163053_863.png', 'D:\\\\三维重建\\\\nerf-pytorch\\\\nerf_llff_data\\\\horns\\\\images_8_origin\\\\DJI_20200223_163054_672.png', 'D:\\\\三维重建\\\\nerf-pytorch\\\\nerf_llff_data\\\\horns\\\\images_8_origin\\\\DJI_20200223_163055_437.png', 'D:\\\\三维重建\\\\nerf-pytorch\\\\nerf_llff_data\\\\horns\\\\images_8_origin\\\\DJI_20200223_163056_232.png', 'D:\\\\三维重建\\\\nerf-pytorch\\\\nerf_llff_data\\\\horns\\\\images_8_origin\\\\DJI_20200223_163056_982.png', 'D:\\\\三维重建\\\\nerf-pytorch\\\\nerf_llff_data\\\\horns\\\\images_8_origin\\\\DJI_20200223_163057_732.png', 'D:\\\\三维重建\\\\nerf-pytorch\\\\nerf_llff_data\\\\horns\\\\images_8_origin\\\\DJI_20200223_163058_602.png', 'D:\\\\三维重建\\\\nerf-pytorch\\\\nerf_llff_data\\\\horns\\\\images_8_origin\\\\DJI_20200223_163101_047.png', 'D:\\\\三维重建\\\\nerf-pytorch\\\\nerf_llff_data\\\\horns\\\\images_8_origin\\\\DJI_20200223_163101_947.png', 'D:\\\\三维重建\\\\nerf-pytorch\\\\nerf_llff_data\\\\horns\\\\images_8_origin\\\\DJI_20200223_163102_892.png', 'D:\\\\三维重建\\\\nerf-pytorch\\\\nerf_llff_data\\\\horns\\\\images_8_origin\\\\DJI_20200223_163103_777.png', 'D:\\\\三维重建\\\\nerf-pytorch\\\\nerf_llff_data\\\\horns\\\\images_8_origin\\\\DJI_20200223_163104_557.png', 'D:\\\\三维重建\\\\nerf-pytorch\\\\nerf_llff_data\\\\horns\\\\images_8_origin\\\\DJI_20200223_163105_427.png', 'D:\\\\三维重建\\\\nerf-pytorch\\\\nerf_llff_data\\\\horns\\\\images_8_origin\\\\DJI_20200223_163106_343.png', 'D:\\\\三维重建\\\\nerf-pytorch\\\\nerf_llff_data\\\\horns\\\\images_8_origin\\\\DJI_20200223_163156_668.png', 'D:\\\\三维重建\\\\nerf-pytorch\\\\nerf_llff_data\\\\horns\\\\images_8_origin\\\\DJI_20200223_163157_823.png', 'D:\\\\三维重建\\\\nerf-pytorch\\\\nerf_llff_data\\\\horns\\\\images_8_origin\\\\DJI_20200223_163159_803.png', 'D:\\\\三维重建\\\\nerf-pytorch\\\\nerf_llff_data\\\\horns\\\\images_8_origin\\\\DJI_20200223_163200_643.png', 'D:\\\\三维重建\\\\nerf-pytorch\\\\nerf_llff_data\\\\horns\\\\images_8_origin\\\\DJI_20200223_163201_633.png', 'D:\\\\三维重建\\\\nerf-pytorch\\\\nerf_llff_data\\\\horns\\\\images_8_origin\\\\DJI_20200223_163202_443.png', 'D:\\\\三维重建\\\\nerf-pytorch\\\\nerf_llff_data\\\\horns\\\\images_8_origin\\\\DJI_20200223_163203_267.png', 'D:\\\\三维重建\\\\nerf-pytorch\\\\nerf_llff_data\\\\horns\\\\images_8_origin\\\\DJI_20200223_163204_077.png', 'D:\\\\三维重建\\\\nerf-pytorch\\\\nerf_llff_data\\\\horns\\\\images_8_origin\\\\DJI_20200223_163204_859.png', 'D:\\\\三维重建\\\\nerf-pytorch\\\\nerf_llff_data\\\\horns\\\\images_8_origin\\\\DJI_20200223_163205_713.png', 'D:\\\\三维重建\\\\nerf-pytorch\\\\nerf_llff_data\\\\horns\\\\images_8_origin\\\\DJI_20200223_163206_598.png', 'D:\\\\三维重建\\\\nerf-pytorch\\\\nerf_llff_data\\\\horns\\\\images_8_origin\\\\DJI_20200223_163208_008.png', 'D:\\\\三维重建\\\\nerf-pytorch\\\\nerf_llff_data\\\\horns\\\\images_8_origin\\\\DJI_20200223_163208_938.png', 'D:\\\\三维重建\\\\nerf-pytorch\\\\nerf_llff_data\\\\horns\\\\images_8_origin\\\\DJI_20200223_163209_763.png', 'D:\\\\三维重建\\\\nerf-pytorch\\\\nerf_llff_data\\\\horns\\\\images_8_origin\\\\DJI_20200223_163210_513.png', 'D:\\\\三维重建\\\\nerf-pytorch\\\\nerf_llff_data\\\\horns\\\\images_8_origin\\\\DJI_20200223_163222_378.png', 'D:\\\\三维重建\\\\nerf-pytorch\\\\nerf_llff_data\\\\horns\\\\images_8_origin\\\\DJI_20200223_163224_103.png', 'D:\\\\三维重建\\\\nerf-pytorch\\\\nerf_llff_data\\\\horns\\\\images_8_origin\\\\DJI_20200223_163225_243.png']\n"
     ]
    },
    {
     "name": "stderr",
     "output_type": "stream",
     "text": [
      "C:\\Users\\18194\\AppData\\Local\\Temp\\ipykernel_37664\\4032221689.py:13: DeprecationWarning: Starting with ImageIO v3 the behavior of this function will switch to that of iio.v3.imread. To keep the current behavior (and make this warning disappear) use `import imageio.v2 as imageio` or call `imageio.v2.imread` directly.\n",
      "  origin_imgs = [imageio.imread(f) for f in origin_img]\n"
     ]
    }
   ],
   "source": [
    "# 先用fern的输出作例子 默认是选取了0 8 16号训练图片作为output 但是在output_dir中的名称是000-002\n",
    "origin_dir = r\"D:\\三维重建\\nerf-pytorch\\nerf_llff_data\\horns\\images_8_origin\"\n",
    "output_dir = r\"D:\\三维重建\\llff数据结果\\horns_pixel_unmask\\Result\"\n",
    "skip = 1\n",
    "dtype = \"llff\"\n",
    "loss_fn_vgg = lpips.LPIPS(net='vgg')\n",
    "#读取图片\n",
    "origin_img = [os.path.join(origin_dir, f) for f in sorted(os.listdir(origin_dir)) if f.endswith('JPG') or f.endswith('jpg') or f.endswith('png')]\n",
    "print(origin_img)\n",
    "if dtype == \"blender\":\n",
    "    origin_imgs = [imageio.imread(f) for f in origin_img if len(f.split(\"\\\\\")[-1]) < 10][::skip]\n",
    "else:\n",
    "    origin_imgs = [imageio.imread(f) for f in origin_img]\n",
    "#     origin_imgs = [imageio.imread(f) for f in origin_img][0:1]\n"
   ]
  },
  {
   "cell_type": "code",
   "execution_count": 3,
   "id": "afac7481",
   "metadata": {},
   "outputs": [],
   "source": [
    "def cul(origin_imgs ,output_img,dtype): \n",
    "    # 默认配置中步调为8\n",
    "    # <10是为了去除深度图和法香图 \n",
    "    output_imgs = [cv2.resize(imageio.imread(f),(504,378)) for f in output_img]\n",
    "#     output_imgs = [imageio.imread(f) for f in output_img]\n",
    "    print(\"预测图片的数量：%d\" % len(output_imgs))\n",
    "    print(\"原始图片的数量：%d\" % len(origin_imgs))\n",
    "    origin_imgs = (np.array(origin_imgs) / 255.).astype(np.float32)\n",
    "    output_imgs = (np.array(output_imgs) / 255.).astype(np.float32)\n",
    "    \n",
    "    if origin_imgs[0].shape[2] == 4:\n",
    "        origin_imgs = origin_imgs[..., :3] * origin_imgs[..., -1:] + (1. - origin_imgs[..., -1:])\n",
    "    origin_imgs = torch.tensor(origin_imgs).float()\n",
    "    output_imgs = torch.tensor(output_imgs).float()\n",
    "    images_nums = len(output_imgs)\n",
    "    PSNRList = torch.zeros((images_nums))\n",
    "    SSIMList = np.zeros((images_nums))\n",
    "    LPIPSList = torch.zeros((images_nums))\n",
    "    for index in range(images_nums):        \n",
    "        PSNRdata = mse2psnr(img2mse(output_imgs[index],origin_imgs[index]))\n",
    "        PSNRList[index] = PSNRdata\n",
    "\n",
    "        SSIMdata = SSIM(output_imgs[index].numpy(),origin_imgs[index].numpy(),multichannel=True)\n",
    "        SSIMList[index] = SSIMdata\n",
    "\n",
    "        # 要拉成1x3xW*H\n",
    "        im1 = output_imgs[index].transpose(0,2)\n",
    "        im1 = im1.reshape(1,3,im1.shape[1],im1.shape[2]).to(torch.float32)\n",
    "        im2 = origin_imgs[index].transpose(0,2)\n",
    "        im2 = im2.reshape(1,3,im2.shape[1],im2.shape[2]).to(torch.float32)\n",
    "        LPIPSdata = loss_fn_vgg(im1, im2)\n",
    "        LPIPSList[index] = LPIPSdata\n",
    "    print(\"PSNR\")\n",
    "    print(PSNRList.mean().item())\n",
    "    print(\"SSIM\")\n",
    "    print(SSIMList.mean().item())\n",
    "    print(\"LPIPS\")\n",
    "    print(LPIPSList.mean().item())    \n",
    "    return PSNRList.mean().item(),SSIMList.mean().item(),LPIPSList.mean().item()"
   ]
  },
  {
   "cell_type": "code",
   "execution_count": 4,
   "id": "f7b83d6d",
   "metadata": {
    "scrolled": false
   },
   "outputs": [
    {
     "name": "stderr",
     "output_type": "stream",
     "text": [
      "C:\\Users\\18194\\AppData\\Local\\Temp\\ipykernel_37664\\204184230.py:4: DeprecationWarning: Starting with ImageIO v3 the behavior of this function will switch to that of iio.v3.imread. To keep the current behavior (and make this warning disappear) use `import imageio.v2 as imageio` or call `imageio.v2.imread` directly.\n",
      "  output_imgs = [cv2.resize(imageio.imread(f),(504,378)) for f in output_img]\n"
     ]
    },
    {
     "name": "stdout",
     "output_type": "stream",
     "text": [
      "预测图片的数量：62\n",
      "测试图片的数量：62\n"
     ]
    },
    {
     "name": "stderr",
     "output_type": "stream",
     "text": [
      "C:\\Users\\18194\\AppData\\Local\\Temp\\ipykernel_37664\\204184230.py:23: FutureWarning: `multichannel` is a deprecated argument name for `structural_similarity`. It will be removed in version 1.0. Please use `channel_axis` instead.\n",
      "  SSIMdata = SSIM(output_imgs[index].numpy(),origin_imgs[index].numpy(),multichannel=True)\n"
     ]
    },
    {
     "name": "stdout",
     "output_type": "stream",
     "text": [
      "PSNR\n",
      "30.144611358642578\n",
      "SSIM\n",
      "0.9504590524781135\n",
      "LPIPS\n",
      "0.1142180934548378\n"
     ]
    }
   ],
   "source": [
    "strformat = 6\n",
    "PSNRResult = []\n",
    "SSIMResult = []        \n",
    "LPIPSResult = []   \n",
    "\n",
    "for i in range(100000,100001,10000):\n",
    "    d = strformat - len(str(i))\n",
    "    name = str(i)\n",
    "#     print(\"轮次%d:\"%i)\n",
    "#     output_img = [os.path.join(output_dir+name, f) for f in sorted(os.listdir(output_dir+name)) if f.endswith('JPG') or f.endswith('jpg') or f.endswith('png')][::skip]\n",
    "    output_img = [os.path.join(output_dir, f) for f in sorted(os.listdir(output_dir)) if f.endswith('JPG') or f.endswith('jpg') or f.endswith('png')]\n",
    "    temp =  cul(origin_imgs ,output_img,dtype)\n",
    "    PSNRResult.append(round(temp[0],2))\n",
    "    SSIMResult.append(round(temp[1],2))    \n",
    "    LPIPSResult.append(round(temp[2],2))    "
   ]
  },
  {
   "cell_type": "code",
   "execution_count": 5,
   "id": "b69cc4f3",
   "metadata": {
    "scrolled": true
   },
   "outputs": [
    {
     "name": "stdout",
     "output_type": "stream",
     "text": [
      "PSNR\n",
      "[30.14]\n",
      "SSIM\n",
      "[0.95]\n",
      "LPIPS\n",
      "[0.11]\n"
     ]
    }
   ],
   "source": [
    "print(\"PSNR\")\n",
    "print(PSNRResult)\n",
    "print(\"SSIM\")\n",
    "print(SSIMResult)\n",
    "print(\"LPIPS\")\n",
    "print(LPIPSResult)"
   ]
  },
  {
   "cell_type": "code",
   "execution_count": 6,
   "id": "72d9006c",
   "metadata": {
    "scrolled": false
   },
   "outputs": [
    {
     "name": "stdout",
     "output_type": "stream",
     "text": [
      "29.8\n"
     ]
    }
   ],
   "source": [
    "average = np.array([\n",
    "    29.66977882385254\n",
    "    ,\n",
    "    29.38288688659668\n",
    "    ,\n",
    "    30.362266540527344\n",
    "])\n",
    "print(round(average.mean(),2))"
   ]
  },
  {
   "cell_type": "code",
   "execution_count": 7,
   "id": "36f50416",
   "metadata": {},
   "outputs": [
    {
     "name": "stdout",
     "output_type": "stream",
     "text": [
      "0.97\n"
     ]
    }
   ],
   "source": [
    "average = np.array([\n",
    "    0.9662328020211257\n",
    "    ,\n",
    "    0.9638694354831883\n",
    "    ,\n",
    "    0.9684067637068384\n",
    "])\n",
    "print(round(average.mean(),2))"
   ]
  },
  {
   "cell_type": "code",
   "execution_count": 8,
   "id": "43a6c3a7",
   "metadata": {},
   "outputs": [
    {
     "name": "stdout",
     "output_type": "stream",
     "text": [
      "0.11\n"
     ]
    }
   ],
   "source": [
    "average = np.array([\n",
    "    0.10823824256658554\n",
    "    ,\n",
    "    0.11280220001935959\n",
    "    ,\n",
    "    0.10585762560367584\n",
    "])\n",
    "print(round(average.mean(),2))"
   ]
  }
 ],
 "metadata": {
  "kernelspec": {
   "display_name": "Python 3 (ipykernel)",
   "language": "python",
   "name": "python3"
  },
  "language_info": {
   "codemirror_mode": {
    "name": "ipython",
    "version": 3
   },
   "file_extension": ".py",
   "mimetype": "text/x-python",
   "name": "python",
   "nbconvert_exporter": "python",
   "pygments_lexer": "ipython3",
   "version": "3.10.7"
  }
 },
 "nbformat": 4,
 "nbformat_minor": 5
}
