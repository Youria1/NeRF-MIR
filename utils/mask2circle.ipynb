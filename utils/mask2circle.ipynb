{
 "cells": [
  {
   "cell_type": "code",
   "execution_count": 17,
   "id": "1b22f974",
   "metadata": {},
   "outputs": [],
   "source": [
    "import numpy as np\n",
    "import math\n",
    "import os\n",
    "import cv2\n",
    "np.random.seed(0)"
   ]
  },
  {
   "cell_type": "code",
   "execution_count": 18,
   "id": "afaa96aa",
   "metadata": {},
   "outputs": [],
   "source": [
    "# First，put the files to be processed into \"circleImages\"\n",
    "# If you want to create datasets with different mask levels or different mask locations, remember to modify the corresponding directory name when saving.\n",
    "# ex) images_8_mask25%_square_random\n",
    "\n",
    "\n",
    "data_dir = \"./circleImages/\"\n",
    "# Radius of obscured circle\n",
    "r = 10\n",
    "# position of mask: 'fix' / 'random'\n",
    "position = 'random'\n",
    "# level of mask per image: 0.25 / 0.50 / 0.75...\n",
    "level = 0.50\n",
    "# there is no need to chang\n",
    "patch_size = 2*r"
   ]
  },
  {
   "cell_type": "code",
   "execution_count": 19,
   "id": "bebb248f",
   "metadata": {
    "scrolled": true
   },
   "outputs": [
    {
     "data": {
      "text/plain": [
       "['image000.png',\n",
       " 'image001.png',\n",
       " 'image002.png',\n",
       " 'image003.png',\n",
       " 'image004.png',\n",
       " 'image005.png',\n",
       " 'image006.png',\n",
       " 'image007.png',\n",
       " 'image008.png',\n",
       " 'image009.png',\n",
       " 'image010.png',\n",
       " 'image011.png',\n",
       " 'image012.png',\n",
       " 'image013.png',\n",
       " 'image014.png',\n",
       " 'image015.png',\n",
       " 'image016.png',\n",
       " 'image017.png',\n",
       " 'image018.png',\n",
       " 'image019.png']"
      ]
     },
     "execution_count": 19,
     "metadata": {},
     "output_type": "execute_result"
    }
   ],
   "source": [
    "names = [f for f in sorted(os.listdir(data_dir)) if f.endswith('JPG') or f.endswith('jpg') or f.endswith('png')]\n",
    "names"
   ]
  },
  {
   "cell_type": "code",
   "execution_count": 20,
   "id": "6e6a0b77",
   "metadata": {},
   "outputs": [],
   "source": [
    "img0 = cv2.imread(\"./circleImages/\"+names[0])\n",
    "height,width  = img0.shape[0],img0.shape[1]\n",
    "image_row = math.ceil(height / patch_size)\n",
    "image_column = math.ceil(width / patch_size)"
   ]
  },
  {
   "cell_type": "code",
   "execution_count": 21,
   "id": "5294b794",
   "metadata": {
    "scrolled": true
   },
   "outputs": [],
   "source": [
    "mask = np.zeros((len(names), image_row*image_column))\n",
    "total = image_row*image_column\n",
    "image_list = []\n",
    "for index in range(len(names)):\n",
    "    if(position == 'fix'):\n",
    "        np.random.seed(0)\n",
    "    mask_index = np.random.choice(range(0,total), round(total*level), replace=False)\n",
    "    # mark the patch of the mask as 1\n",
    "    mask[index][mask_index] = 1\n",
    "    img = cv2.imread(\"./circleimages/\"+names[index])\n",
    "    for i in range(0 ,image_row)  :\n",
    "        for j in range(0 ,image_column):\n",
    "            if(mask[index][i*image_column+j] == 1):\n",
    "                cv2.circle(img, ((j *patch_size+min(( j +1 ) *patch_size,width))//2, ( i *patch_size+min(( i +1 ) *patch_size,height))//2), np.random.choice([r],size=1)[0], (96, 96,96), -1)\n",
    "    cv2.imwrite(\"./circleImages/\"+names[index], img)"
   ]
  },
  {
   "cell_type": "code",
   "execution_count": 22,
   "id": "98cfbba0",
   "metadata": {},
   "outputs": [],
   "source": [
    "# The mask matrix mentioned in the paper\n",
    "np.savetxt(\"./circleImages/position.txt\",mask,fmt='%d')"
   ]
  }
 ],
 "metadata": {
  "kernelspec": {
   "display_name": "Python 3 (ipykernel)",
   "language": "python",
   "name": "python3"
  },
  "language_info": {
   "codemirror_mode": {
    "name": "ipython",
    "version": 3
   },
   "file_extension": ".py",
   "mimetype": "text/x-python",
   "name": "python",
   "nbconvert_exporter": "python",
   "pygments_lexer": "ipython3",
   "version": "3.10.7"
  }
 },
 "nbformat": 4,
 "nbformat_minor": 5
}
