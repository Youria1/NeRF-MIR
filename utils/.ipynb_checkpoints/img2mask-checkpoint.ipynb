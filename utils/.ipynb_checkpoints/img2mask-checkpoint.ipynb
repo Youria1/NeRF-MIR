{
 "cells": [
  {
   "cell_type": "code",
   "execution_count": 1,
   "id": "8e2f971d",
   "metadata": {},
   "outputs": [],
   "source": [
    "import numpy as np\n",
    "import json\n",
    "import cv2\n",
    "import os\n",
    "from PIL import Image\n",
    "import matplotlib.pyplot as plt\n",
    "import math"
   ]
  },
  {
   "cell_type": "code",
   "execution_count": 2,
   "id": "5b9fda7f",
   "metadata": {},
   "outputs": [
    {
     "data": {
      "text/plain": [
       "(720, 720, 3)"
      ]
     },
     "execution_count": 2,
     "metadata": {},
     "output_type": "execute_result"
    }
   ],
   "source": [
    "imgdir = 'test.jpg'\n",
    "img = cv2.imread(imgdir)\n",
    "H,W = img.shape[:2]"
   ]
  },
  {
   "cell_type": "code",
   "execution_count": null,
   "id": "13a08639",
   "metadata": {},
   "outputs": [],
   "source": [
    "patch_size = 719\n",
    "patch_W = math.ceil(W/patch_size)\n",
    "patch_H = math.ceil(H/patch_size)"
   ]
  }
 ],
 "metadata": {
  "kernelspec": {
   "display_name": "Python 3 (ipykernel)",
   "language": "python",
   "name": "python3"
  },
  "language_info": {
   "codemirror_mode": {
    "name": "ipython",
    "version": 3
   },
   "file_extension": ".py",
   "mimetype": "text/x-python",
   "name": "python",
   "nbconvert_exporter": "python",
   "pygments_lexer": "ipython3",
   "version": "3.9.7"
  }
 },
 "nbformat": 4,
 "nbformat_minor": 5
}
